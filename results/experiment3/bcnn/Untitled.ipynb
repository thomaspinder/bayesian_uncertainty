{
 "cells": [
  {
   "cell_type": "code",
   "execution_count": 2,
   "metadata": {},
   "outputs": [],
   "source": [
    "import pandas as pd\n",
    "import glob"
   ]
  },
  {
   "cell_type": "code",
   "execution_count": 21,
   "metadata": {},
   "outputs": [
    {
     "name": "stdout",
     "output_type": "stream",
     "text": [
      "['bcnn_fgsm_1.0_MNIST.csv', 'bcnn_fgsm_0.4_MNIST.csv', 'bcnn_fgsm_0.7_MNIST.csv', 'bcnn_fgsm_0.3_MNIST.csv', 'bcnn_fgsm_1.7_MNIST.csv', 'bcnn_fgsm_0.6_MNIST.csv', 'bcnn_fgsm_1.8_MNIST.csv', 'bcnn_fgsm_1.4_MNIST.csv', 'bcnn_fgsm_1.9_MNIST.csv', 'bcnn_fgsm_1.2_MNIST.csv', 'bcnn_fgsm_1.1_MNIST.csv', 'bcnn_fgsm_0.5_MNIST.csv', 'bcnn_fgsm_0.01_MNIST.csv', 'bcnn_fgsm_0.1_MNIST.csv', 'bcnn_fgsm_1.6_MNIST.csv', 'bcnn_fgsm_2.0_MNIST.csv', 'bcnn_fgsm_0.9_MNIST.csv', 'bcnn_fgsm_0.2_MNIST.csv', 'bcnn_fgsm_0.8_MNIST.csv', 'bcnn_fgsm_1.3_MNIST.csv', 'bcnn_fgsm_1.5_MNIST.csv']\n",
      "[1.0]\n",
      "[1.0, 0.4]\n",
      "[1.0, 0.4, 0.7]\n",
      "[1.0, 0.4, 0.7, 0.3]\n",
      "[1.0, 0.4, 0.7, 0.3, 1.7]\n",
      "[1.0, 0.4, 0.7, 0.3, 1.7, 0.6]\n",
      "[1.0, 0.4, 0.7, 0.3, 1.7, 0.6, 1.8]\n",
      "[1.0, 0.4, 0.7, 0.3, 1.7, 0.6, 1.8, 1.4]\n",
      "[1.0, 0.4, 0.7, 0.3, 1.7, 0.6, 1.8, 1.4, 1.9]\n",
      "[1.0, 0.4, 0.7, 0.3, 1.7, 0.6, 1.8, 1.4, 1.9, 1.2]\n",
      "[1.0, 0.4, 0.7, 0.3, 1.7, 0.6, 1.8, 1.4, 1.9, 1.2, 1.1]\n",
      "[1.0, 0.4, 0.7, 0.3, 1.7, 0.6, 1.8, 1.4, 1.9, 1.2, 1.1, 0.5]\n",
      "[1.0, 0.4, 0.7, 0.3, 1.7, 0.6, 1.8, 1.4, 1.9, 1.2, 1.1, 0.5, 0.01]\n",
      "[1.0, 0.4, 0.7, 0.3, 1.7, 0.6, 1.8, 1.4, 1.9, 1.2, 1.1, 0.5, 0.01, 0.1]\n",
      "[1.0, 0.4, 0.7, 0.3, 1.7, 0.6, 1.8, 1.4, 1.9, 1.2, 1.1, 0.5, 0.01, 0.1, 1.6]\n",
      "[1.0, 0.4, 0.7, 0.3, 1.7, 0.6, 1.8, 1.4, 1.9, 1.2, 1.1, 0.5, 0.01, 0.1, 1.6, 2.0]\n",
      "[1.0, 0.4, 0.7, 0.3, 1.7, 0.6, 1.8, 1.4, 1.9, 1.2, 1.1, 0.5, 0.01, 0.1, 1.6, 2.0, 0.9]\n",
      "[1.0, 0.4, 0.7, 0.3, 1.7, 0.6, 1.8, 1.4, 1.9, 1.2, 1.1, 0.5, 0.01, 0.1, 1.6, 2.0, 0.9, 0.2]\n",
      "[1.0, 0.4, 0.7, 0.3, 1.7, 0.6, 1.8, 1.4, 1.9, 1.2, 1.1, 0.5, 0.01, 0.1, 1.6, 2.0, 0.9, 0.2, 0.8]\n",
      "[1.0, 0.4, 0.7, 0.3, 1.7, 0.6, 1.8, 1.4, 1.9, 1.2, 1.1, 0.5, 0.01, 0.1, 1.6, 2.0, 0.9, 0.2, 0.8, 1.3]\n",
      "[1.0, 0.4, 0.7, 0.3, 1.7, 0.6, 1.8, 1.4, 1.9, 1.2, 1.1, 0.5, 0.01, 0.1, 1.6, 2.0, 0.9, 0.2, 0.8, 1.3, 1.5]\n"
     ]
    }
   ],
   "source": [
    "filenames = glob.glob('*.csv')\n",
    "print(filenames)\n",
    "epsilons = []\n",
    "def get_epsilon(filename):\n",
    "    digits = [s for s in file if s.isdigit()]\n",
    "    if len(digits)==3:\n",
    "        return 0.01\n",
    "    elif len(digits)==2:\n",
    "        return float('.'.join(str(x) for x in digits))\n",
    "\n"
   ]
  }
 ],
 "metadata": {
  "kernelspec": {
   "display_name": "Python 3",
   "language": "python",
   "name": "python3"
  },
  "language_info": {
   "codemirror_mode": {
    "name": "ipython",
    "version": 3
   },
   "file_extension": ".py",
   "mimetype": "text/x-python",
   "name": "python",
   "nbconvert_exporter": "python",
   "pygments_lexer": "ipython3",
   "version": "3.6.4"
  }
 },
 "nbformat": 4,
 "nbformat_minor": 2
}
