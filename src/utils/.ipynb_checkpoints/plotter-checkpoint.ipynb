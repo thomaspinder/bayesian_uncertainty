{
 "cells": [
  {
   "cell_type": "markdown",
   "metadata": {},
   "source": [
    "# Graph Plotting\n",
    "This notebook contains code and scripts used to create plots in the results section.\n",
    "\n",
    "The code in this notebook is a mix of Python and R code, enabled by `rpy2`. The installation process is a little involved and requires an up-to-date R kernel on your machine."
   ]
  },
  {
   "cell_type": "code",
   "execution_count": 18,
   "metadata": {},
   "outputs": [],
   "source": [
    "import seaborn as sns\n",
    "import matplotlib.pyplot as plt\n",
    "import pandas as pd\n",
    "import glob\n",
    "%load_ext rpy2.ipython\n",
    "plt.style.use('seaborn-colorblind')"
   ]
  },
  {
   "cell_type": "markdown",
   "metadata": {},
   "source": [
    "## Fooling Proportion of Adversaries\n",
    "The third experiment within the vision section concerns the resilience of a CNN to adversarial attacks crafted by the FGSM method. The results generated contain 4 items: original prediction, prediction of the perturbed image, ground truth and the value of epsilon used in FGSM."
   ]
  },
  {
   "cell_type": "code",
   "execution_count": 11,
   "metadata": {},
   "outputs": [],
   "source": [
    "%load_ext rpy2.ipython\n",
    "# Get set of results\n",
    "files = glob.glob('../../results/experiment3/*.csv')\n",
    "\n",
    "# Load in result set\n",
    "results = pd.read_csv(files[0])\n",
    "for file in files[1:]:\n",
    "    intermediate = pd.read_csv(file)\n",
    "    results = results.append(intermediate)"
   ]
  },
  {
   "cell_type": "markdown",
   "metadata": {},
   "source": [
    "# Exploratory Work"
   ]
  },
  {
   "cell_type": "code",
   "execution_count": null,
   "metadata": {},
   "outputs": [
    {
     "name": "stderr",
     "output_type": "stream",
     "text": [
      "/home/tpin3694/anaconda3/lib/python3.6/site-packages/rpy2/rinterface/__init__.py:146: RRuntimeWarning: Warning in install.packages(\"ggplot2\", repos = \"http://cran.us.r-project.org\",  :\n",
      "  warnings.warn(x, RRuntimeWarning)\n",
      "/home/tpin3694/anaconda3/lib/python3.6/site-packages/rpy2/rinterface/__init__.py:146: RRuntimeWarning: \n",
      " \n",
      "  warnings.warn(x, RRuntimeWarning)\n",
      "/home/tpin3694/anaconda3/lib/python3.6/site-packages/rpy2/rinterface/__init__.py:146: RRuntimeWarning:  'lib = \"/usr/local/lib/R/site-library\"' is not writable\n",
      "\n",
      "  warnings.warn(x, RRuntimeWarning)\n"
     ]
    }
   ],
   "source": [
    "%%R\n",
    "install.packages(\"ggplot2\", repos='http://cran.us.r-project.org', quiet=TRUE)\n",
    "library(ggplot2)"
   ]
  }
 ],
 "metadata": {
  "kernelspec": {
   "display_name": "Python 3",
   "language": "python",
   "name": "python3"
  },
  "language_info": {
   "codemirror_mode": {
    "name": "ipython",
    "version": 3
   },
   "file_extension": ".py",
   "mimetype": "text/x-python",
   "name": "python",
   "nbconvert_exporter": "python",
   "pygments_lexer": "ipython3",
   "version": "3.6.4"
  }
 },
 "nbformat": 4,
 "nbformat_minor": 2
}
